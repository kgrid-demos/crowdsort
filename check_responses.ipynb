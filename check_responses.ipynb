{
 "cells": [
  {
   "cell_type": "markdown",
   "metadata": {},
   "source": [
    "# Response Counter\n",
    "\n",
    "Author: Koki Sasagawa  \n",
    "Last Edited: 2/8/2019\n",
    "\n",
    "This notebook counts the number of unique comparisons from crowdsort response data. \n",
    "Sometimes due to variety of factors such as internet speed, communication failures with the backend, and potential unseen bugs, the responses can be incomplete or duplicated. This script checks to make sure that all responses are unique and complete.\n",
    "\n",
    "Files: \n",
    "1. Text file containing all unique comparisons to make\n",
    "2. Crowdsort response"
   ]
  },
  {
   "cell_type": "code",
   "execution_count": null,
   "metadata": {},
   "outputs": [],
   "source": [
    "comparisons = set()\n",
    "\n",
    "with open(\"comparisons.txt\", 'r') as f:\n",
    "    # Read comparisons.txt by line\n",
    "    for line in f.readlines():\n",
    "        line = re.sub(r'[\\[\\]\\s\\n\\t]', '', line)\n",
    "        if line:\n",
    "            comparisons.add(line)\n",
    "            \n",
    "# Check size\n",
    "len(comparisons)"
   ]
  },
  {
   "cell_type": "code",
   "execution_count": 163,
   "metadata": {},
   "outputs": [],
   "source": [
    "import pandas as pd\n",
    "import re\n",
    "import os"
   ]
  },
  {
   "cell_type": "code",
   "execution_count": 165,
   "metadata": {},
   "outputs": [],
   "source": [
    "# Check the files in your current directory\n",
    "os.listdir()"
   ]
  },
  {
   "cell_type": "code",
   "execution_count": 167,
   "metadata": {},
   "outputs": [],
   "source": [
    "# Change 'file_name.csv' with the file name of interest\n",
    "data = pd.read_csv('file_name.csv')\n",
    "data.head()"
   ]
  },
  {
   "cell_type": "code",
   "execution_count": 159,
   "metadata": {},
   "outputs": [],
   "source": [
    "unique_comparisons = set()\n",
    "ordered_comparisons = []\n",
    "\n",
    "for i in data.comparison:\n",
    "    left, right = i.split(',')\n",
    "    alphabetized = sorted([left.strip(), right.strip()])\n",
    "    ordered_comparisons.append(str(alphabetized[0] + ',' + alphabetized[1]))\n",
    "    comparisons.add(tuple(alphabetized))"
   ]
  },
  {
   "cell_type": "code",
   "execution_count": 160,
   "metadata": {},
   "outputs": [
    {
     "name": "stdout",
     "output_type": "stream",
     "text": [
      "Size of table: (420, 6)\n",
      "Number of unique comparisons: 210\n"
     ]
    }
   ],
   "source": [
    "print(\"Size of table: {}\".format(data.shape))\n",
    "print(\"Number of unique comparisons: {}\".format(len(unique_comparisons)))"
   ]
  },
  {
   "cell_type": "code",
   "execution_count": 161,
   "metadata": {},
   "outputs": [],
   "source": [
    "# Replace comparison column with alphabetized version\n",
    "data.comparison = ordered_comparisons"
   ]
  },
  {
   "cell_type": "code",
   "execution_count": 169,
   "metadata": {
    "scrolled": false
   },
   "outputs": [],
   "source": [
    "data['freq'] = data.groupby('comparison')['comparison'].transform('count')\n",
    "data.sort_values(['freq', 'time'], ascending=False, inplace=True)\n",
    "data"
   ]
  }
 ],
 "metadata": {
  "kernelspec": {
   "display_name": "Python 3",
   "language": "python",
   "name": "python3"
  },
  "language_info": {
   "codemirror_mode": {
    "name": "ipython",
    "version": 3
   },
   "file_extension": ".py",
   "mimetype": "text/x-python",
   "name": "python",
   "nbconvert_exporter": "python",
   "pygments_lexer": "ipython3",
   "version": "3.7.0"
  }
 },
 "nbformat": 4,
 "nbformat_minor": 2
}
